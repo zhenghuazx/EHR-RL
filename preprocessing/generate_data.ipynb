{
 "cells": [
  {
   "cell_type": "code",
   "execution_count": 6,
   "metadata": {},
   "outputs": [],
   "source": [
    "import os\n",
    "import numpy as np\n",
    "import seaborn as sns\n",
    "import matplotlib.pyplot as plt\n",
    "import pandas as pd\n",
    "import sklearn\n",
    "from tqdm import tqdm\n",
    "#from lifelines impo"
   ]
  },
  {
   "cell_type": "code",
   "execution_count": 3,
   "metadata": {},
   "outputs": [],
   "source": [
    "lab_test = pd.read_csv('~/Research/PHD/project/Hua Zheng/previous code/cleaned_full_No_CVD_EHR_medical_forward_backward_EMA_filling.csv', delimiter=',')\n",
    "#lab_test_with_ms = pd.read_csv('~/Research/PHD/project/Hua Zheng/previous code/cleaned_full_No_CVD_EHR_medical.csv', delimiter=',')\n",
    "param_class = pd.read_csv('~/Research/PHD/project/Hua Zheng/previous code/cleaned_EHR_treatment_param.csv', delimiter=',')\n",
    "thera_class = pd.read_csv('~/Research/PHD/project/Hua Zheng/previous code/cleaned_EHR_treatment_thera.csv', delimiter=',')\n"
   ]
  },
  {
   "cell_type": "code",
   "execution_count": 4,
   "metadata": {},
   "outputs": [],
   "source": [
    "lab_test = lab_test.sort_values(by=['study_id', 'ENCOUNTER_DT_RAN']).merge(param_class,on=['study_id', 'ENCOUNTER_DT_RAN'])\n"
   ]
  },
  {
   "cell_type": "code",
   "execution_count": 7,
   "metadata": {},
   "outputs": [
    {
     "name": "stderr",
     "output_type": "stream",
     "text": [
      "100%|██████████| 22952/22952 [6:09:56<00:00,  1.03it/s]   \n"
     ]
    }
   ],
   "source": [
    "import time\n",
    "\n",
    "data = []\n",
    "\n",
    "demo_feature_list = ['study_id','ENCOUNTER_DT_RAN','age','smoke','SEX','RACE']\n",
    "interest_feature_list = [\n",
    " 'CREATININE',\n",
    " 'HEMOGLOBIN A1C',\n",
    " 'CHOLESTEROL, TOTAL',\n",
    " 'HDL CHOLESTEROL',\n",
    " 'TRIGLYCERIDES',\n",
    " 'EGFR MDRD AFRICAN AMERICAN',\n",
    " 'LDL CHOLESTEROL',\n",
    " 'EGFR MDRD NON AFRICAN AMERICAN',\n",
    " #'CREATININE, URINE',\n",
    " 'BP_SYSTOLIC','BP_DIASTOLIC',\n",
    " 'BMI']\n",
    "\n",
    "target_cloumn_names = param_class.columns[4:]\n",
    "agg_max_features = {ftr:'max' for ftr in interest_feature_list} \n",
    "agg_min_features = {ftr:'min' for ftr in interest_feature_list} \n",
    "agg_max_targets = {targ:'max' for targ in target_cloumn_names} \n",
    "\n",
    "# engineer features\n",
    "features_column_names = [ftr.lower().replace(' ','_') for ftr in demo_feature_list] + \\\n",
    "[ftr.lower().replace(' ','_') for ftr in interest_feature_list] + \\\n",
    "[ftr.lower().replace(' ','_')+'_max' for ftr in interest_feature_list] + \\\n",
    "[ftr.lower().replace(' ','_')+'_min' for ftr in interest_feature_list] + \\\n",
    "[tag.lower().replace(' ','_')+'_hist' for tag in target_cloumn_names] + \\\n",
    "[tag.lower().replace(' ','_')+'_cur' for tag in target_cloumn_names] + \\\n",
    "[tag.lower().replace(' ','_') for tag in target_cloumn_names]\n",
    "\n",
    "#cnt= 0\n",
    "#timestamp = time.time()\n",
    "for patient, d in tqdm(lab_test.groupby(['study_id'])):\n",
    "    cur_half_year_idx = 0\n",
    "    total_num_visits = d.shape[0]\n",
    "    for visit_idx in range(d.shape[0]):\n",
    "        while d.iloc[visit_idx,0] - d.iloc[cur_half_year_idx,0] >= 366/2: \n",
    "            cur_half_year_idx += 1\n",
    "        \n",
    "        temp_past_half_year = d.iloc[cur_half_year_idx:visit_idx]\n",
    "        cur_visit_lab_max = temp_past_half_year.agg(agg_max_features).tolist()\n",
    "        cur_visit_lab_min = temp_past_half_year.agg(agg_min_features).tolist()\n",
    "        demo_features = d.iloc[visit_idx][demo_feature_list].tolist()\n",
    "        cur_visit_lab = d.iloc[visit_idx][interest_feature_list].tolist()\n",
    "        treatment_history = temp_past_half_year[target_cloumn_names].agg(agg_max_targets).tolist()\n",
    "        cur_treatment = d.iloc[visit_idx-1][target_cloumn_names].tolist() if visit_idx > 0 else [0]*len(target_cloumn_names)\n",
    "        treatment = d.iloc[visit_idx][target_cloumn_names].tolist()\n",
    "        #print(demo_features+cur_visit_lab+cur_visit_lab_max+cur_visit_lab_min)\n",
    "        data.append(demo_features+cur_visit_lab+cur_visit_lab_max+cur_visit_lab_min+treatment_history+cur_treatment+treatment)\n",
    "            \n",
    "data\n",
    "featurized_data = pd.DataFrame(data, columns=features_column_names)\n",
    "#featurized_data"
   ]
  },
  {
   "cell_type": "code",
   "execution_count": 8,
   "metadata": {},
   "outputs": [],
   "source": [
    "data\n",
    "featurized_data = pd.DataFrame(data, columns=features_column_names)\n",
    "#featurized_data\n",
    "featurized_data.to_csv('~/Research/PHD/project/Hua Zheng/previous code/cleaned_EHR_treatment_param_lab_test_final.csv', index=False)"
   ]
  },
  {
   "cell_type": "code",
   "execution_count": null,
   "metadata": {},
   "outputs": [],
   "source": []
  }
 ],
 "metadata": {
  "kernelspec": {
   "display_name": "Python 3",
   "language": "python",
   "name": "python3"
  },
  "language_info": {
   "codemirror_mode": {
    "name": "ipython",
    "version": 3
   },
   "file_extension": ".py",
   "mimetype": "text/x-python",
   "name": "python",
   "nbconvert_exporter": "python",
   "pygments_lexer": "ipython3",
   "version": "3.6.8"
  }
 },
 "nbformat": 4,
 "nbformat_minor": 2
}
